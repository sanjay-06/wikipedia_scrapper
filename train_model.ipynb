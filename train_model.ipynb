{
 "cells": [
  {
   "cell_type": "code",
   "execution_count": 1,
   "metadata": {},
   "outputs": [],
   "source": [
    "import os\n",
    "import numpy as np\n",
    "import pandas as pd\n",
    "from sklearn.feature_extraction.text import TfidfTransformer\n",
    "from sklearn.feature_extraction.text import CountVectorizer\n",
    "from sklearn.pipeline import Pipeline\n",
    "import string\n",
    "from nltk import word_tokenize          \n",
    "from nltk.stem import WordNetLemmatizer\n",
    "from nltk.corpus import stopwords\n",
    "from sklearn.model_selection import train_test_split\n",
    "\n",
    "from sklearn import decomposition\n",
    "from sklearn.metrics import roc_auc_score\n",
    "\n",
    "from nltk.corpus import stopwords\n",
    "import nltk"
   ]
  },
  {
   "cell_type": "code",
   "execution_count": 2,
   "metadata": {},
   "outputs": [
    {
     "name": "stderr",
     "output_type": "stream",
     "text": [
      "[nltk_data] Downloading package stopwords to /home/saketh/nltk_data...\n",
      "[nltk_data]   Package stopwords is already up-to-date!\n",
      "[nltk_data] Downloading package punkt to /home/saketh/nltk_data...\n",
      "[nltk_data]   Package punkt is already up-to-date!\n",
      "[nltk_data] Downloading package wordnet to /home/saketh/nltk_data...\n",
      "[nltk_data]   Package wordnet is already up-to-date!\n",
      "[nltk_data] Downloading package omw-1.4 to /home/saketh/nltk_data...\n",
      "[nltk_data]   Package omw-1.4 is already up-to-date!\n"
     ]
    },
    {
     "data": {
      "text/plain": [
       "True"
      ]
     },
     "execution_count": 2,
     "metadata": {},
     "output_type": "execute_result"
    }
   ],
   "source": [
    "nltk.download('stopwords')\n",
    "nltk.download('punkt')\n",
    "nltk.download('wordnet')\n",
    "nltk.download('omw-1.4')"
   ]
  },
  {
   "cell_type": "code",
   "execution_count": 3,
   "metadata": {},
   "outputs": [],
   "source": [
    "class LemmaTokenizer:\n",
    "    def __init__(self):\n",
    "        self.wnl = WordNetLemmatizer()\n",
    "    def __call__(self, doc):\n",
    "        return [self.wnl.lemmatize(t) for t in word_tokenize(doc)]"
   ]
  },
  {
   "cell_type": "code",
   "execution_count": 4,
   "metadata": {},
   "outputs": [
    {
     "name": "stdout",
     "output_type": "stream",
     "text": [
      "          file_name                                            content  \\\n",
      "0    business_1.txt  Lufthansa flies back to profit\\n\\nGerman airli...   \n",
      "1   business_10.txt  Winn-Dixie files for bankruptcy\\n\\nUS supermar...   \n",
      "2  business_100.txt  US economy still growing says Fed\\n\\nMost area...   \n",
      "3   business_11.txt  Saab to build Cadillacs in Sweden\\n\\nGeneral M...   \n",
      "4   business_12.txt  Bank voted 8-1 for no rate change\\n\\nThe decis...   \n",
      "\n",
      "   category  \n",
      "0  business  \n",
      "1  business  \n",
      "2  business  \n",
      "3  business  \n",
      "4  business  \n"
     ]
    }
   ],
   "source": [
    "categories = os.listdir('Data')\n",
    "\n",
    "file_content_list = []\n",
    "\n",
    "for category in categories:\n",
    "    directory = f\"./Data/{category}/\"\n",
    "    files = os.listdir(directory)\n",
    "    for file_name in files:\n",
    "        content = open(directory + file_name, encoding=\"utf8\").read()\n",
    "        row = [file_name, content, category]\n",
    "        file_content_list.append(row)\n",
    "\n",
    "\n",
    "file_content_df = pd.DataFrame(file_content_list, columns=['file_name', 'content', 'category'])\n",
    "print(file_content_df.head())\n",
    "corpus = []\n",
    "for text in file_content_df['content'].to_numpy().tolist():\n",
    "    text_without_punctuation = ''.join([ch for ch in text if ch not in string.punctuation])\n",
    "    corpus.append(text_without_punctuation.lower())\n",
    "\n",
    "pipe = Pipeline([('count', CountVectorizer(tokenizer = LemmaTokenizer())),\n",
    "                ('tfid', TfidfTransformer())]).fit(corpus)\n",
    "# pipe['count'].transform(corpus).toarray()\n",
    "data = pipe.transform(corpus).toarray()\n",
    "pca = decomposition.PCA(n_components=50)\n",
    "pca.fit(data)\n",
    "pca_data = pca.transform(data)\n",
    "\n",
    "# df['category'] = fileContentDf['category']\n",
    "# print(df.head())\n",
    "# print(df.shape)\n"
   ]
  },
  {
   "cell_type": "code",
   "execution_count": 5,
   "metadata": {},
   "outputs": [
    {
     "name": "stdout",
     "output_type": "stream",
     "text": [
      "(750, 51)\n",
      "(250, 50)\n",
      "space            84\n",
      "entertainment    83\n",
      "historical       82\n",
      "sport            73\n",
      "graphics         73\n",
      "technologie      72\n",
      "politics         72\n",
      "business         71\n",
      "medical          71\n",
      "food             69\n",
      "Name: category, dtype: int64\n",
      "Index([         0,          1,          2,          3,          4,          5,\n",
      "                6,          7,          8,          9,         10,         11,\n",
      "               12,         13,         14,         15,         16,         17,\n",
      "               18,         19,         20,         21,         22,         23,\n",
      "               24,         25,         26,         27,         28,         29,\n",
      "               30,         31,         32,         33,         34,         35,\n",
      "               36,         37,         38,         39,         40,         41,\n",
      "               42,         43,         44,         45,         46,         47,\n",
      "               48,         49, 'category'],\n",
      "      dtype='object')\n",
      "Index([ 0,  1,  2,  3,  4,  5,  6,  7,  8,  9, 10, 11, 12, 13, 14, 15, 16, 17,\n",
      "       18, 19, 20, 21, 22, 23, 24, 25, 26, 27, 28, 29, 30, 31, 32, 33, 34, 35,\n",
      "       36, 37, 38, 39, 40, 41, 42, 43, 44, 45, 46, 47, 48, 49],\n",
      "      dtype='object')\n"
     ]
    }
   ],
   "source": [
    "y = file_content_df['category'].to_numpy()\n",
    "train_x, test_x, train_y, test_y = train_test_split(pca_data, y, random_state=42)\n",
    "train_df = pd.DataFrame(train_x)\n",
    "\n",
    "\n",
    "train_df['category'] = train_y\n",
    "\n",
    "\n",
    "test_df = pd.DataFrame(test_x)\n",
    "test_df['category'] = test_y\n",
    "# print(test_df.columns)\n",
    "\n",
    "test_df = test_df.drop(['category'], axis=1)\n",
    "\n",
    "print(train_df.shape)\n",
    "print(test_df.shape)\n",
    "\n",
    "print(train_df['category'].value_counts())\n",
    "# print(test_df['category'].value_counts())\n",
    "\n",
    "# print(train_df.head())\n",
    "# print(test_df.head())\n",
    "\n",
    "print(train_df.columns)\n",
    "train_df.swapaxes(\"index\", \"columns\")\n",
    "print(test_df.columns)\n",
    "\n"
   ]
  },
  {
   "cell_type": "code",
   "execution_count": 6,
   "metadata": {},
   "outputs": [
    {
     "data": {
      "text/html": [
       "<div>\n",
       "<style scoped>\n",
       "    .dataframe tbody tr th:only-of-type {\n",
       "        vertical-align: middle;\n",
       "    }\n",
       "\n",
       "    .dataframe tbody tr th {\n",
       "        vertical-align: top;\n",
       "    }\n",
       "\n",
       "    .dataframe thead th {\n",
       "        text-align: right;\n",
       "    }\n",
       "</style>\n",
       "<table border=\"1\" class=\"dataframe\">\n",
       "  <thead>\n",
       "    <tr style=\"text-align: right;\">\n",
       "      <th></th>\n",
       "      <th>0</th>\n",
       "      <th>1</th>\n",
       "      <th>2</th>\n",
       "      <th>3</th>\n",
       "      <th>4</th>\n",
       "      <th>5</th>\n",
       "      <th>6</th>\n",
       "      <th>7</th>\n",
       "      <th>8</th>\n",
       "      <th>9</th>\n",
       "      <th>...</th>\n",
       "      <th>41</th>\n",
       "      <th>42</th>\n",
       "      <th>43</th>\n",
       "      <th>44</th>\n",
       "      <th>45</th>\n",
       "      <th>46</th>\n",
       "      <th>47</th>\n",
       "      <th>48</th>\n",
       "      <th>49</th>\n",
       "      <th>category</th>\n",
       "    </tr>\n",
       "  </thead>\n",
       "  <tbody>\n",
       "    <tr>\n",
       "      <th>0</th>\n",
       "      <td>0.039134</td>\n",
       "      <td>-0.001010</td>\n",
       "      <td>-0.046749</td>\n",
       "      <td>-0.000874</td>\n",
       "      <td>0.110835</td>\n",
       "      <td>-0.033231</td>\n",
       "      <td>-0.037180</td>\n",
       "      <td>-0.064189</td>\n",
       "      <td>0.109382</td>\n",
       "      <td>-0.031832</td>\n",
       "      <td>...</td>\n",
       "      <td>0.014246</td>\n",
       "      <td>-0.043190</td>\n",
       "      <td>-0.043933</td>\n",
       "      <td>0.007018</td>\n",
       "      <td>-0.015559</td>\n",
       "      <td>0.000199</td>\n",
       "      <td>-0.012227</td>\n",
       "      <td>-0.030712</td>\n",
       "      <td>0.033141</td>\n",
       "      <td>business</td>\n",
       "    </tr>\n",
       "    <tr>\n",
       "      <th>1</th>\n",
       "      <td>-0.030578</td>\n",
       "      <td>-0.051675</td>\n",
       "      <td>-0.007592</td>\n",
       "      <td>0.082319</td>\n",
       "      <td>0.065100</td>\n",
       "      <td>0.046110</td>\n",
       "      <td>-0.050779</td>\n",
       "      <td>0.026762</td>\n",
       "      <td>-0.014852</td>\n",
       "      <td>-0.011372</td>\n",
       "      <td>...</td>\n",
       "      <td>-0.006698</td>\n",
       "      <td>0.011167</td>\n",
       "      <td>0.033929</td>\n",
       "      <td>-0.033463</td>\n",
       "      <td>-0.059428</td>\n",
       "      <td>-0.029388</td>\n",
       "      <td>-0.007930</td>\n",
       "      <td>-0.022069</td>\n",
       "      <td>-0.002287</td>\n",
       "      <td>technologie</td>\n",
       "    </tr>\n",
       "    <tr>\n",
       "      <th>2</th>\n",
       "      <td>-0.032513</td>\n",
       "      <td>0.011243</td>\n",
       "      <td>0.069039</td>\n",
       "      <td>0.014192</td>\n",
       "      <td>0.036600</td>\n",
       "      <td>0.004282</td>\n",
       "      <td>-0.091121</td>\n",
       "      <td>0.050221</td>\n",
       "      <td>-0.118402</td>\n",
       "      <td>-0.127799</td>\n",
       "      <td>...</td>\n",
       "      <td>-0.004335</td>\n",
       "      <td>-0.043388</td>\n",
       "      <td>-0.021474</td>\n",
       "      <td>-0.040910</td>\n",
       "      <td>-0.000446</td>\n",
       "      <td>-0.045292</td>\n",
       "      <td>-0.029235</td>\n",
       "      <td>-0.000413</td>\n",
       "      <td>0.017292</td>\n",
       "      <td>space</td>\n",
       "    </tr>\n",
       "    <tr>\n",
       "      <th>3</th>\n",
       "      <td>-0.018645</td>\n",
       "      <td>-0.090369</td>\n",
       "      <td>-0.102473</td>\n",
       "      <td>-0.144494</td>\n",
       "      <td>-0.140357</td>\n",
       "      <td>0.002319</td>\n",
       "      <td>-0.007268</td>\n",
       "      <td>-0.070144</td>\n",
       "      <td>-0.032840</td>\n",
       "      <td>-0.017990</td>\n",
       "      <td>...</td>\n",
       "      <td>0.027577</td>\n",
       "      <td>-0.062127</td>\n",
       "      <td>-0.048121</td>\n",
       "      <td>0.024613</td>\n",
       "      <td>0.012719</td>\n",
       "      <td>-0.076022</td>\n",
       "      <td>-0.050383</td>\n",
       "      <td>0.031830</td>\n",
       "      <td>0.000020</td>\n",
       "      <td>sport</td>\n",
       "    </tr>\n",
       "    <tr>\n",
       "      <th>4</th>\n",
       "      <td>0.071042</td>\n",
       "      <td>-0.005264</td>\n",
       "      <td>0.031925</td>\n",
       "      <td>0.004499</td>\n",
       "      <td>-0.002582</td>\n",
       "      <td>0.011650</td>\n",
       "      <td>-0.045168</td>\n",
       "      <td>0.021010</td>\n",
       "      <td>-0.027933</td>\n",
       "      <td>-0.037062</td>\n",
       "      <td>...</td>\n",
       "      <td>-0.071865</td>\n",
       "      <td>0.143704</td>\n",
       "      <td>0.004215</td>\n",
       "      <td>0.060796</td>\n",
       "      <td>-0.005835</td>\n",
       "      <td>0.131758</td>\n",
       "      <td>-0.014838</td>\n",
       "      <td>-0.019017</td>\n",
       "      <td>0.159025</td>\n",
       "      <td>graphics</td>\n",
       "    </tr>\n",
       "  </tbody>\n",
       "</table>\n",
       "<p>5 rows × 51 columns</p>\n",
       "</div>"
      ],
      "text/plain": [
       "          0         1         2         3         4         5         6  \\\n",
       "0  0.039134 -0.001010 -0.046749 -0.000874  0.110835 -0.033231 -0.037180   \n",
       "1 -0.030578 -0.051675 -0.007592  0.082319  0.065100  0.046110 -0.050779   \n",
       "2 -0.032513  0.011243  0.069039  0.014192  0.036600  0.004282 -0.091121   \n",
       "3 -0.018645 -0.090369 -0.102473 -0.144494 -0.140357  0.002319 -0.007268   \n",
       "4  0.071042 -0.005264  0.031925  0.004499 -0.002582  0.011650 -0.045168   \n",
       "\n",
       "          7         8         9  ...        41        42        43        44  \\\n",
       "0 -0.064189  0.109382 -0.031832  ...  0.014246 -0.043190 -0.043933  0.007018   \n",
       "1  0.026762 -0.014852 -0.011372  ... -0.006698  0.011167  0.033929 -0.033463   \n",
       "2  0.050221 -0.118402 -0.127799  ... -0.004335 -0.043388 -0.021474 -0.040910   \n",
       "3 -0.070144 -0.032840 -0.017990  ...  0.027577 -0.062127 -0.048121  0.024613   \n",
       "4  0.021010 -0.027933 -0.037062  ... -0.071865  0.143704  0.004215  0.060796   \n",
       "\n",
       "         45        46        47        48        49     category  \n",
       "0 -0.015559  0.000199 -0.012227 -0.030712  0.033141     business  \n",
       "1 -0.059428 -0.029388 -0.007930 -0.022069 -0.002287  technologie  \n",
       "2 -0.000446 -0.045292 -0.029235 -0.000413  0.017292        space  \n",
       "3  0.012719 -0.076022 -0.050383  0.031830  0.000020        sport  \n",
       "4 -0.005835  0.131758 -0.014838 -0.019017  0.159025     graphics  \n",
       "\n",
       "[5 rows x 51 columns]"
      ]
     },
     "execution_count": 6,
     "metadata": {},
     "output_type": "execute_result"
    }
   ],
   "source": [
    "train_df.head(5)\n"
   ]
  },
  {
   "cell_type": "code",
   "execution_count": 7,
   "metadata": {},
   "outputs": [
    {
     "data": {
      "text/html": [
       "<div>\n",
       "<style scoped>\n",
       "    .dataframe tbody tr th:only-of-type {\n",
       "        vertical-align: middle;\n",
       "    }\n",
       "\n",
       "    .dataframe tbody tr th {\n",
       "        vertical-align: top;\n",
       "    }\n",
       "\n",
       "    .dataframe thead th {\n",
       "        text-align: right;\n",
       "    }\n",
       "</style>\n",
       "<table border=\"1\" class=\"dataframe\">\n",
       "  <thead>\n",
       "    <tr style=\"text-align: right;\">\n",
       "      <th></th>\n",
       "      <th>0</th>\n",
       "      <th>1</th>\n",
       "      <th>2</th>\n",
       "      <th>3</th>\n",
       "      <th>4</th>\n",
       "      <th>5</th>\n",
       "      <th>6</th>\n",
       "      <th>7</th>\n",
       "      <th>8</th>\n",
       "      <th>9</th>\n",
       "      <th>...</th>\n",
       "      <th>40</th>\n",
       "      <th>41</th>\n",
       "      <th>42</th>\n",
       "      <th>43</th>\n",
       "      <th>44</th>\n",
       "      <th>45</th>\n",
       "      <th>46</th>\n",
       "      <th>47</th>\n",
       "      <th>48</th>\n",
       "      <th>49</th>\n",
       "    </tr>\n",
       "  </thead>\n",
       "  <tbody>\n",
       "    <tr>\n",
       "      <th>0</th>\n",
       "      <td>0.073365</td>\n",
       "      <td>-0.134967</td>\n",
       "      <td>0.095051</td>\n",
       "      <td>0.026115</td>\n",
       "      <td>-0.087544</td>\n",
       "      <td>-0.027701</td>\n",
       "      <td>-0.048262</td>\n",
       "      <td>0.010542</td>\n",
       "      <td>-0.080892</td>\n",
       "      <td>0.047928</td>\n",
       "      <td>...</td>\n",
       "      <td>0.013282</td>\n",
       "      <td>0.016449</td>\n",
       "      <td>-0.045516</td>\n",
       "      <td>0.021243</td>\n",
       "      <td>-0.076872</td>\n",
       "      <td>-0.064256</td>\n",
       "      <td>-0.003355</td>\n",
       "      <td>-0.009386</td>\n",
       "      <td>0.059168</td>\n",
       "      <td>0.081062</td>\n",
       "    </tr>\n",
       "    <tr>\n",
       "      <th>1</th>\n",
       "      <td>0.181245</td>\n",
       "      <td>-0.038077</td>\n",
       "      <td>0.026276</td>\n",
       "      <td>0.001234</td>\n",
       "      <td>-0.002702</td>\n",
       "      <td>-0.063813</td>\n",
       "      <td>-0.021163</td>\n",
       "      <td>0.058886</td>\n",
       "      <td>-0.027256</td>\n",
       "      <td>-0.065124</td>\n",
       "      <td>...</td>\n",
       "      <td>0.074447</td>\n",
       "      <td>0.050276</td>\n",
       "      <td>-0.064297</td>\n",
       "      <td>0.003259</td>\n",
       "      <td>0.054095</td>\n",
       "      <td>0.083229</td>\n",
       "      <td>0.018191</td>\n",
       "      <td>0.071684</td>\n",
       "      <td>-0.018452</td>\n",
       "      <td>0.028165</td>\n",
       "    </tr>\n",
       "    <tr>\n",
       "      <th>2</th>\n",
       "      <td>0.091255</td>\n",
       "      <td>-0.064455</td>\n",
       "      <td>0.036273</td>\n",
       "      <td>0.058973</td>\n",
       "      <td>0.008379</td>\n",
       "      <td>-0.011453</td>\n",
       "      <td>-0.003576</td>\n",
       "      <td>-0.005972</td>\n",
       "      <td>0.016647</td>\n",
       "      <td>0.026908</td>\n",
       "      <td>...</td>\n",
       "      <td>-0.032951</td>\n",
       "      <td>-0.033518</td>\n",
       "      <td>-0.012872</td>\n",
       "      <td>-0.001563</td>\n",
       "      <td>-0.004551</td>\n",
       "      <td>-0.000178</td>\n",
       "      <td>0.003923</td>\n",
       "      <td>0.023605</td>\n",
       "      <td>-0.004803</td>\n",
       "      <td>0.035620</td>\n",
       "    </tr>\n",
       "    <tr>\n",
       "      <th>3</th>\n",
       "      <td>-0.067382</td>\n",
       "      <td>-0.047565</td>\n",
       "      <td>-0.119906</td>\n",
       "      <td>0.143065</td>\n",
       "      <td>-0.037892</td>\n",
       "      <td>-0.061504</td>\n",
       "      <td>0.143073</td>\n",
       "      <td>0.019210</td>\n",
       "      <td>0.031093</td>\n",
       "      <td>-0.027792</td>\n",
       "      <td>...</td>\n",
       "      <td>-0.080166</td>\n",
       "      <td>-0.021148</td>\n",
       "      <td>-0.049287</td>\n",
       "      <td>0.009005</td>\n",
       "      <td>-0.009716</td>\n",
       "      <td>-0.015415</td>\n",
       "      <td>-0.049004</td>\n",
       "      <td>-0.009126</td>\n",
       "      <td>-0.050762</td>\n",
       "      <td>0.004057</td>\n",
       "    </tr>\n",
       "    <tr>\n",
       "      <th>4</th>\n",
       "      <td>-0.140896</td>\n",
       "      <td>0.164015</td>\n",
       "      <td>0.069516</td>\n",
       "      <td>-0.089926</td>\n",
       "      <td>0.008406</td>\n",
       "      <td>-0.042129</td>\n",
       "      <td>0.009013</td>\n",
       "      <td>0.010463</td>\n",
       "      <td>0.014525</td>\n",
       "      <td>-0.086466</td>\n",
       "      <td>...</td>\n",
       "      <td>-0.010037</td>\n",
       "      <td>-0.022191</td>\n",
       "      <td>0.046080</td>\n",
       "      <td>-0.001784</td>\n",
       "      <td>-0.017633</td>\n",
       "      <td>-0.037122</td>\n",
       "      <td>-0.031836</td>\n",
       "      <td>0.021073</td>\n",
       "      <td>-0.000740</td>\n",
       "      <td>-0.027888</td>\n",
       "    </tr>\n",
       "  </tbody>\n",
       "</table>\n",
       "<p>5 rows × 50 columns</p>\n",
       "</div>"
      ],
      "text/plain": [
       "         0         1         2         3         4         5         6   \\\n",
       "0  0.073365 -0.134967  0.095051  0.026115 -0.087544 -0.027701 -0.048262   \n",
       "1  0.181245 -0.038077  0.026276  0.001234 -0.002702 -0.063813 -0.021163   \n",
       "2  0.091255 -0.064455  0.036273  0.058973  0.008379 -0.011453 -0.003576   \n",
       "3 -0.067382 -0.047565 -0.119906  0.143065 -0.037892 -0.061504  0.143073   \n",
       "4 -0.140896  0.164015  0.069516 -0.089926  0.008406 -0.042129  0.009013   \n",
       "\n",
       "         7         8         9   ...        40        41        42        43  \\\n",
       "0  0.010542 -0.080892  0.047928  ...  0.013282  0.016449 -0.045516  0.021243   \n",
       "1  0.058886 -0.027256 -0.065124  ...  0.074447  0.050276 -0.064297  0.003259   \n",
       "2 -0.005972  0.016647  0.026908  ... -0.032951 -0.033518 -0.012872 -0.001563   \n",
       "3  0.019210  0.031093 -0.027792  ... -0.080166 -0.021148 -0.049287  0.009005   \n",
       "4  0.010463  0.014525 -0.086466  ... -0.010037 -0.022191  0.046080 -0.001784   \n",
       "\n",
       "         44        45        46        47        48        49  \n",
       "0 -0.076872 -0.064256 -0.003355 -0.009386  0.059168  0.081062  \n",
       "1  0.054095  0.083229  0.018191  0.071684 -0.018452  0.028165  \n",
       "2 -0.004551 -0.000178  0.003923  0.023605 -0.004803  0.035620  \n",
       "3 -0.009716 -0.015415 -0.049004 -0.009126 -0.050762  0.004057  \n",
       "4 -0.017633 -0.037122 -0.031836  0.021073 -0.000740 -0.027888  \n",
       "\n",
       "[5 rows x 50 columns]"
      ]
     },
     "execution_count": 7,
     "metadata": {},
     "output_type": "execute_result"
    }
   ],
   "source": [
    "test_df.head(5)"
   ]
  },
  {
   "cell_type": "code",
   "execution_count": 8,
   "metadata": {},
   "outputs": [
    {
     "data": {
      "text/plain": [
       "GaussianNB()"
      ]
     },
     "execution_count": 8,
     "metadata": {},
     "output_type": "execute_result"
    }
   ],
   "source": [
    "from sklearn.model_selection import train_test_split\n",
    "from sklearn.naive_bayes import GaussianNB\n",
    "gnb = GaussianNB()\n",
    "gnb.fit(train_x, train_y)"
   ]
  },
  {
   "cell_type": "code",
   "execution_count": 9,
   "metadata": {},
   "outputs": [
    {
     "data": {
      "text/plain": [
       "array(['medical', 'space', 'space', 'politics', 'historical', 'politics',\n",
       "       'politics', 'medical', 'sport', 'entertainment', 'sport',\n",
       "       'business', 'politics', 'technologie', 'business', 'food', 'food',\n",
       "       'sport', 'space', 'graphics', 'medical', 'entertainment',\n",
       "       'graphics', 'medical', 'food', 'food', 'entertainment',\n",
       "       'technologie', 'technologie', 'graphics', 'graphics', 'business',\n",
       "       'politics', 'historical', 'graphics', 'entertainment', 'politics',\n",
       "       'medical', 'technologie', 'sport', 'graphics', 'business',\n",
       "       'graphics', 'technologie', 'food', 'food', 'technologie',\n",
       "       'politics', 'historical', 'sport', 'medical', 'sport', 'food',\n",
       "       'medical', 'politics', 'business', 'politics', 'business', 'food',\n",
       "       'sport', 'food', 'business', 'medical', 'food', 'politics',\n",
       "       'space', 'politics', 'sport', 'graphics', 'space', 'entertainment',\n",
       "       'historical', 'medical', 'space', 'food', 'food', 'politics',\n",
       "       'business', 'medical', 'graphics', 'politics', 'business', 'food',\n",
       "       'business', 'graphics', 'medical', 'technologie', 'graphics',\n",
       "       'space', 'graphics', 'graphics', 'historical', 'medical', 'food',\n",
       "       'space', 'historical', 'space', 'business', 'business', 'sport',\n",
       "       'graphics', 'graphics', 'technologie', 'food', 'politics',\n",
       "       'business', 'medical', 'technologie', 'entertainment',\n",
       "       'technologie', 'medical', 'sport', 'technologie', 'sport',\n",
       "       'business', 'historical', 'entertainment', 'technologie',\n",
       "       'medical', 'food', 'sport', 'historical', 'space', 'food', 'food',\n",
       "       'medical', 'space', 'historical', 'sport', 'sport', 'medical',\n",
       "       'sport', 'food', 'technologie', 'medical', 'business',\n",
       "       'entertainment', 'food', 'business', 'business', 'technologie',\n",
       "       'space', 'space', 'food', 'sport', 'technologie', 'sport', 'food',\n",
       "       'sport', 'graphics', 'politics', 'entertainment', 'technologie',\n",
       "       'historical', 'food', 'historical', 'graphics', 'politics',\n",
       "       'business', 'sport', 'medical', 'space', 'politics', 'space',\n",
       "       'sport', 'politics', 'food', 'politics', 'graphics', 'graphics',\n",
       "       'graphics', 'historical', 'entertainment', 'technologie',\n",
       "       'historical', 'graphics', 'food', 'historical', 'sport',\n",
       "       'politics', 'historical', 'politics', 'graphics', 'medical',\n",
       "       'sport', 'entertainment', 'graphics', 'graphics', 'technologie',\n",
       "       'graphics', 'technologie', 'sport', 'politics', 'entertainment',\n",
       "       'food', 'historical', 'graphics', 'food', 'politics', 'business',\n",
       "       'business', 'medical', 'politics', 'medical', 'entertainment',\n",
       "       'medical', 'entertainment', 'technologie', 'historical', 'sport',\n",
       "       'business', 'entertainment', 'technologie', 'sport', 'politics',\n",
       "       'graphics', 'politics', 'medical', 'technologie', 'space',\n",
       "       'medical', 'space', 'technologie', 'business', 'entertainment',\n",
       "       'business', 'medical', 'graphics', 'technologie', 'medical',\n",
       "       'graphics', 'technologie', 'historical', 'medical', 'business',\n",
       "       'business', 'food', 'technologie', 'entertainment', 'graphics',\n",
       "       'business', 'food', 'medical', 'space', 'graphics',\n",
       "       'entertainment', 'historical', 'business', 'business', 'food'],\n",
       "      dtype='<U13')"
      ]
     },
     "execution_count": 9,
     "metadata": {},
     "output_type": "execute_result"
    }
   ],
   "source": [
    "ypred=gnb.predict(test_x)\n",
    "ypred"
   ]
  },
  {
   "cell_type": "code",
   "execution_count": 10,
   "metadata": {},
   "outputs": [
    {
     "data": {
      "text/plain": [
       "array([[2.99771644e-26, 3.60088330e-17, 7.26118728e-11, ...,\n",
       "        8.97628750e-08, 1.07187658e-21, 1.83439325e-09],\n",
       "       [1.81454639e-19, 1.83261329e-18, 4.83358090e-11, ...,\n",
       "        9.99997919e-01, 2.16595225e-16, 1.99377096e-10],\n",
       "       [2.64371205e-07, 3.77580591e-09, 2.66692536e-04, ...,\n",
       "        8.57892474e-01, 1.36116462e-07, 4.42547044e-02],\n",
       "       ...,\n",
       "       [1.00000000e+00, 6.29841245e-15, 9.95762018e-33, ...,\n",
       "        1.12290651e-27, 7.51341305e-19, 2.64335540e-14],\n",
       "       [9.99999999e-01, 8.35815023e-12, 1.35455824e-16, ...,\n",
       "        1.70196919e-16, 1.92398919e-18, 5.97576502e-10],\n",
       "       [1.40385078e-50, 1.98468311e-35, 1.00000000e+00, ...,\n",
       "        2.45062302e-11, 7.03572431e-34, 5.23978579e-32]])"
      ]
     },
     "execution_count": 10,
     "metadata": {},
     "output_type": "execute_result"
    }
   ],
   "source": [
    "ypredprob=gnb.predict_proba(test_x)\n",
    "ypredprob"
   ]
  },
  {
   "cell_type": "code",
   "execution_count": 11,
   "metadata": {},
   "outputs": [
    {
     "data": {
      "text/plain": [
       "array(['medical', 'space', 'space', 'politics', 'historical', 'politics',\n",
       "       'politics', 'medical', 'sport', 'entertainment', 'sport',\n",
       "       'business', 'politics', 'technologie', 'technologie', 'sport',\n",
       "       'food', 'sport', 'space', 'graphics', 'medical', 'entertainment',\n",
       "       'graphics', 'medical', 'food', 'food', 'entertainment',\n",
       "       'technologie', 'technologie', 'technologie', 'graphics',\n",
       "       'entertainment', 'politics', 'historical', 'graphics',\n",
       "       'entertainment', 'politics', 'medical', 'technologie', 'business',\n",
       "       'graphics', 'business', 'graphics', 'technologie', 'food', 'food',\n",
       "       'technologie', 'politics', 'historical', 'sport', 'medical',\n",
       "       'sport', 'food', 'medical', 'business', 'business', 'politics',\n",
       "       'business', 'food', 'sport', 'food', 'business', 'medical', 'food',\n",
       "       'politics', 'politics', 'politics', 'sport', 'business', 'medical',\n",
       "       'entertainment', 'historical', 'medical', 'space', 'food', 'food',\n",
       "       'politics', 'business', 'medical', 'graphics', 'politics',\n",
       "       'business', 'food', 'business', 'graphics', 'medical',\n",
       "       'technologie', 'space', 'space', 'graphics', 'graphics',\n",
       "       'historical', 'medical', 'food', 'space', 'historical', 'space',\n",
       "       'business', 'business', 'sport', 'space', 'graphics',\n",
       "       'technologie', 'food', 'politics', 'politics', 'medical',\n",
       "       'technologie', 'entertainment', 'technologie', 'medical', 'sport',\n",
       "       'technologie', 'sport', 'business', 'historical', 'entertainment',\n",
       "       'technologie', 'medical', 'food', 'sport', 'historical', 'space',\n",
       "       'food', 'food', 'medical', 'medical', 'historical', 'sport',\n",
       "       'sport', 'medical', 'sport', 'food', 'technologie', 'medical',\n",
       "       'business', 'entertainment', 'food', 'business', 'business',\n",
       "       'business', 'food', 'space', 'food', 'sport', 'technologie',\n",
       "       'sport', 'food', 'sport', 'graphics', 'politics', 'entertainment',\n",
       "       'technologie', 'historical', 'technologie', 'historical',\n",
       "       'graphics', 'politics', 'business', 'sport', 'medical', 'space',\n",
       "       'politics', 'politics', 'sport', 'politics', 'food', 'politics',\n",
       "       'graphics', 'graphics', 'graphics', 'historical', 'entertainment',\n",
       "       'technologie', 'historical', 'graphics', 'food', 'food', 'sport',\n",
       "       'politics', 'historical', 'politics', 'graphics', 'medical',\n",
       "       'sport', 'entertainment', 'graphics', 'graphics', 'technologie',\n",
       "       'space', 'technologie', 'sport', 'politics', 'entertainment',\n",
       "       'food', 'historical', 'graphics', 'food', 'politics', 'business',\n",
       "       'business', 'medical', 'politics', 'medical', 'sport', 'medical',\n",
       "       'entertainment', 'technologie', 'historical', 'sport', 'business',\n",
       "       'entertainment', 'technologie', 'sport', 'politics', 'graphics',\n",
       "       'politics', 'food', 'technologie', 'space', 'graphics', 'space',\n",
       "       'technologie', 'business', 'sport', 'business', 'medical',\n",
       "       'graphics', 'technologie', 'medical', 'graphics', 'technologie',\n",
       "       'historical', 'medical', 'business', 'business', 'food',\n",
       "       'technologie', 'entertainment', 'graphics', 'business', 'food',\n",
       "       'medical', 'space', 'graphics', 'entertainment', 'historical',\n",
       "       'business', 'business', 'food'], dtype=object)"
      ]
     },
     "execution_count": 11,
     "metadata": {},
     "output_type": "execute_result"
    }
   ],
   "source": [
    "test_y"
   ]
  },
  {
   "cell_type": "code",
   "execution_count": 12,
   "metadata": {},
   "outputs": [
    {
     "name": "stdout",
     "output_type": "stream",
     "text": [
      "0.908\n"
     ]
    }
   ],
   "source": [
    "crect=0\n",
    "for pred,act in zip(ypred,test_y):\n",
    "    if pred == act:\n",
    "        crect+=1\n",
    "print(crect/250)"
   ]
  },
  {
   "cell_type": "code",
   "execution_count": 13,
   "metadata": {},
   "outputs": [
    {
     "data": {
      "image/png": "[encoded data removed]",
      "text/plain": [
       "<Figure size 432x288 with 1 Axes>"
      ]
     },
     "metadata": {
      "needs_background": "light"
     },
     "output_type": "display_data"
    }
   ],
   "source": [
    "import matplotlib.pyplot as plt\n",
    "PC_values = np.arange(pca.n_components_) + 1\n",
    "plt.plot(PC_values, pca.explained_variance_ratio_, 'o-', linewidth=2, color='blue')\n",
    "plt.title('Scree Plot')\n",
    "plt.xlabel('Principal Component')\n",
    "plt.ylabel('Variance Explained')\n",
    "plt.show()"
   ]
  },
  {
   "cell_type": "code",
   "execution_count": 14,
   "metadata": {},
   "outputs": [
    {
     "name": "stdout",
     "output_type": "stream",
     "text": [
      "[[-0.01142396 -0.11904664 -0.04252323 -0.12921472 -0.17646032 -0.05098566\n",
      "   0.05932184 -0.0896595  -0.05292749 -0.01594145 -0.00464309 -0.11631818\n",
      "  -0.03224768  0.04524969 -0.00616468 -0.00169068 -0.06591356 -0.08421275\n",
      "   0.04881176 -0.02036457  0.01035501 -0.01157038  0.01293382 -0.01852506\n",
      "  -0.01227506 -0.04075676 -0.01202388  0.05084936 -0.05761829 -0.01487073\n",
      "   0.03893953 -0.01167494 -0.0099119   0.01135525 -0.00027271 -0.0204578\n",
      "  -0.03734253 -0.04136415  0.0019638  -0.0036581   0.00382538 -0.0133784\n",
      "   0.02165087 -0.0445945   0.00129653 -0.00352132 -0.0235084   0.0013293\n",
      "  -0.01782753 -0.00600618]]\n"
     ]
    }
   ],
   "source": [
    "test_content = open('./test_file.txt').read()\n",
    "test_content = [test_content]\n",
    "test_data = pipe.transform(test_content)\n",
    "pca_test_data = pca.transform(test_data.toarray())\n",
    "print(pca_test_data)"
   ]
  },
  {
   "cell_type": "code",
   "execution_count": 15,
   "metadata": {},
   "outputs": [
    {
     "data": {
      "text/plain": [
       "array(['sport'], dtype='<U13')"
      ]
     },
     "execution_count": 15,
     "metadata": {},
     "output_type": "execute_result"
    }
   ],
   "source": [
    "gnb.predict(pca_test_data)"
   ]
  },
  {
   "cell_type": "code",
   "execution_count": 16,
   "metadata": {},
   "outputs": [
    {
     "data": {
      "text/plain": [
       "array([[1.14550648e-20, 1.43283808e-09, 4.07997207e-12, 6.53842074e-07,\n",
       "        1.61758266e-12, 1.41209879e-11, 5.72462682e-11, 9.80747178e-12,\n",
       "        9.99999345e-01, 4.75126816e-15]])"
      ]
     },
     "execution_count": 16,
     "metadata": {},
     "output_type": "execute_result"
    }
   ],
   "source": [
    "gnb.predict_proba(pca_test_data)"
   ]
  },
  {
   "cell_type": "code",
   "execution_count": 17,
   "metadata": {},
   "outputs": [],
   "source": [
    "import pickle\n",
    "\n",
    "with open('pipe', 'wb') as pipe_file:\n",
    "    pickle.dump(pipe, pipe_file)\n",
    "\n",
    "with open('pca', 'wb') as pca_file:\n",
    "    pickle.dump(pca, pca_file)\n",
    "\n",
    "with open('model', 'wb') as model_file:\n",
    "    pickle.dump(gnb, model_file)"
   ]
  }
 ],
 "metadata": {
  "interpreter": {
   "hash": "02a0e82c5941c25f0baccd88fc1dfcbf26cec72f74cc0534ea796bd2229d0907"
  },
  "kernelspec": {
   "display_name": "Python 3.8.12 ('venv': venv)",
   "language": "python",
   "name": "python3"
  },
  "language_info": {
   "codemirror_mode": {
    "name": "ipython",
    "version": 3
   },
   "file_extension": ".py",
   "mimetype": "text/x-python",
   "name": "python",
   "nbconvert_exporter": "python",
   "pygments_lexer": "ipython3",
   "version": "3.10.4"
  },
  "orig_nbformat": 4
 },
 "nbformat": 4,
 "nbformat_minor": 2
}
